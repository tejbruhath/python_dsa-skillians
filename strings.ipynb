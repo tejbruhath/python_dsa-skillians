{
 "cells": [
  {
   "cell_type": "code",
   "execution_count": 10,
   "id": "a9c8ec0c-cd71-46f1-9088-d9f0f629ec7d",
   "metadata": {},
   "outputs": [
    {
     "name": "stdout",
     "output_type": "stream",
     "text": [
      "Hello,World! My Name Is Tej\n"
     ]
    }
   ],
   "source": [
    "str = \"Hello,world! my name is tej\"\n",
    "print(str.title())"
   ]
  },
  {
   "cell_type": "code",
   "execution_count": 20,
   "id": "0c8439bd-6396-4a9f-8748-87458da39f42",
   "metadata": {},
   "outputs": [
    {
     "name": "stdout",
     "output_type": "stream",
     "text": [
      "-----------Hello,world! my name is tej------------\n",
      "Hello,world! my name is tej-------------\n",
      "000Hello,world! my name is tej\n",
      "00042\n",
      "00042\n"
     ]
    }
   ],
   "source": [
    "#alignment\n",
    "filled_str = str.center(50,\"-\")\n",
    "print(filled_str)\n",
    "print(str.ljust(40,\"-\"))\n",
    "print(str.zfill(30))\n",
    "print(f\"42\".zfill(5))\n",
    "print(\"42\".zfill(5))"
   ]
  },
  {
   "cell_type": "code",
   "execution_count": 27,
   "id": "94e41610-681e-434b-a57f-9733b3a74cc8",
   "metadata": {},
   "outputs": [
    {
     "name": "stdout",
     "output_type": "stream",
     "text": [
      "ello,world! my name is tej\n",
      "Hello,world! my name is te\n"
     ]
    },
    {
     "data": {
      "text/plain": [
       "'ello,world! my name is tej'"
      ]
     },
     "execution_count": 27,
     "metadata": {},
     "output_type": "execute_result"
    }
   ],
   "source": [
    "print(str.strip(\"H\"))\n",
    "#print(str.strip()) is used to remove whitespaces\n",
    "print(str.rstrip(\"j\"))\n",
    "str.lstrip(\"H\")"
   ]
  },
  {
   "cell_type": "code",
   "execution_count": 36,
   "id": "958e56c4-d12e-4d09-aefa-0a02a9f821ed",
   "metadata": {},
   "outputs": [
    {
     "name": "stdout",
     "output_type": "stream",
     "text": [
      "6\n",
      "25\n",
      "1\n",
      "Hello,world! my name is tej\n",
      "3\n"
     ]
    }
   ],
   "source": [
    "#searching\n",
    "print(str.find(\"wor\"))\n",
    "print(str.rfind(\"e\"))\n",
    "print(str.find(\"e\"))\n",
    "print(str)\n",
    "print(str.count(\"e\"))"
   ]
  },
  {
   "cell_type": "code",
   "execution_count": 41,
   "id": "b5f50b70-42f6-41f4-9bab-1f72c9049dd7",
   "metadata": {},
   "outputs": [
    {
     "name": "stdout",
     "output_type": "stream",
     "text": [
      "False\n",
      "False\n",
      "False\n",
      "False\n",
      "False\n",
      "False\n",
      "False\n",
      "False\n",
      "False\n"
     ]
    }
   ],
   "source": [
    "#boolean methods\n",
    "print(str.isalnum())\n",
    "print(str.isalpha())\n",
    "print(str.isdigit())\n",
    "print(str.isdecimal())\n",
    "print(str.isnumeric())\n",
    "print(str.isspace())\n",
    "print(str.istitle())\n",
    "print(str.islower())\n",
    "print(str.isupper())"
   ]
  },
  {
   "cell_type": "code",
   "execution_count": 43,
   "id": "b77aa26b-bf4a-4551-b701-0db9b95fba81",
   "metadata": {},
   "outputs": [
    {
     "name": "stdout",
     "output_type": "stream",
     "text": [
      "['Hello,world!', 'my', 'name', 'is', 'tej']\n",
      "hello\n"
     ]
    }
   ],
   "source": [
    "print(str.split())\n",
    "hello = [\"h\",\"e\",\"l\",\"l\",\"o\"]\n",
    "print(\"\".join(hello))"
   ]
  },
  {
   "cell_type": "code",
   "execution_count": 44,
   "id": "4e52cc9e-5efe-41bf-8df5-7ce2737b6a86",
   "metadata": {},
   "outputs": [
    {
     "data": {
      "text/plain": [
       "'h2ll4'"
      ]
     },
     "execution_count": 44,
     "metadata": {},
     "output_type": "execute_result"
    }
   ],
   "source": [
    "table = str.maketrans(\"aeiou\",\"12345\")\n",
    "\"hello\".translate(table)"
   ]
  },
  {
   "cell_type": "code",
   "execution_count": 49,
   "id": "deeb491b-a297-4457-acda-8da97f4e3aa8",
   "metadata": {},
   "outputs": [
    {
     "name": "stdout",
     "output_type": "stream",
     "text": [
      "olleh\n",
      "olleh\n"
     ]
    }
   ],
   "source": [
    "#1. reverse a string\n",
    "def reverse_string(s:str)->str:\n",
    "    return s[::-1]\n",
    "def reverse_string_method_two(s:str)->str:   \n",
    "    reversed_s = \"\"\n",
    "    for char in s:\n",
    "        reversed_s = char + reversed_s\n",
    "    return reversed_s    \n",
    "        \n",
    "print(reverse_string(\"hello\"))\n",
    "print(reverse_string_method_two(\"hello\"))"
   ]
  },
  {
   "cell_type": "code",
   "execution_count": 54,
   "id": "1b41337b-79a2-4cf4-b5d7-29cf878b5ab3",
   "metadata": {},
   "outputs": [
    {
     "name": "stdout",
     "output_type": "stream",
     "text": [
      "True\n"
     ]
    }
   ],
   "source": [
    "#2. check if a string is palindrome \n",
    "def check_palindrome(s:str)->str:\n",
    "    i = 0\n",
    "    while(i<len(s)):\n",
    "        if s[i] != s[len(s)-i-1]:\n",
    "            return False\n",
    "        i+=1    \n",
    "    return True    \n",
    "print(check_palindrome(\"ana\"))    \n",
    "        "
   ]
  },
  {
   "cell_type": "code",
   "execution_count": 55,
   "id": "e6f53212-ebe1-499e-a545-76f8eb872405",
   "metadata": {},
   "outputs": [
    {
     "name": "stdout",
     "output_type": "stream",
     "text": [
      "2\n"
     ]
    }
   ],
   "source": [
    "#3. count the number of occurences\n",
    "def count_occurence(s:str,c:str)->int:\n",
    "    count = 0\n",
    "    for i in range(0,len(s)):\n",
    "        if c == s[i]:\n",
    "            count +=1\n",
    "    return count\n",
    "print(count_occurence(\"hello\",\"l\"))    \n",
    "        "
   ]
  },
  {
   "cell_type": "code",
   "execution_count": 57,
   "id": "7d4fff19-8230-4de0-9015-d98977eeb99e",
   "metadata": {
    "editable": true,
    "slideshow": {
     "slide_type": ""
    },
    "tags": []
   },
   "outputs": [
    {
     "name": "stdout",
     "output_type": "stream",
     "text": [
      "True\n",
      "True\n"
     ]
    }
   ],
   "source": [
    "#4. check if two strings are anagrams\n",
    "from collections import Counter\n",
    "def check_anagrams(s1:str,s2:str)->bool:\n",
    "    return sorted(s1) == sorted(s2)    \n",
    "\n",
    "def check_anagrams_faster(s1:str,s2:str)->bool:\n",
    "    return Counter(s1) == Counter(s2)\n",
    "    \n",
    "print(check_anagrams(\"listen\",\"silent\"))    \n",
    "print(check_anagrams_faster(\"listen\",\"silent\"))"
   ]
  },
  {
   "cell_type": "code",
   "execution_count": 65,
   "id": "99cd6692-2379-4164-9005-4bf66a24582d",
   "metadata": {},
   "outputs": [
    {
     "name": "stdout",
     "output_type": "stream",
     "text": [
      "h\n"
     ]
    }
   ],
   "source": [
    "#5. first non-repeating character\n",
    "from collections import Counter\n",
    "def non_repeating_char(s:str)->str:\n",
    "    char_count = Counter(s)\n",
    "    for char in s:\n",
    "        if char_count[char] == 1:\n",
    "            return char\n",
    "    return None        \n",
    "\n",
    "print(non_repeating_char(\"hello\"))\n"
   ]
  },
  {
   "cell_type": "code",
   "execution_count": null,
   "id": "23bfa3f0-d979-449c-af04-43019421a8b1",
   "metadata": {},
   "outputs": [],
   "source": []
  }
 ],
 "metadata": {
  "kernelspec": {
   "display_name": "Python 3 (ipykernel)",
   "language": "python",
   "name": "python3"
  },
  "language_info": {
   "codemirror_mode": {
    "name": "ipython",
    "version": 3
   },
   "file_extension": ".py",
   "mimetype": "text/x-python",
   "name": "python",
   "nbconvert_exporter": "python",
   "pygments_lexer": "ipython3",
   "version": "3.12.9"
  }
 },
 "nbformat": 4,
 "nbformat_minor": 5
}
