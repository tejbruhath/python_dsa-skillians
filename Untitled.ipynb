{
 "cells": [
  {
   "cell_type": "code",
   "execution_count": 15,
   "id": "b354db83-c361-4ffe-8561-3ee7cfbf5685",
   "metadata": {},
   "outputs": [
    {
     "name": "stdout",
     "output_type": "stream",
     "text": [
      "1\n",
      "5 7\n",
      "11 13\n",
      "None\n"
     ]
    }
   ],
   "source": [
    "def findprime(x:int,y:int)->int:\n",
    "    if x%6 == 1 or x%6 == -1:\n",
    "        print(x)\n",
    "    for i in range(x,y+1):\n",
    "        if(6*i > y):\n",
    "            return\n",
    "        print((6*i)-1,(6*i)+1)\n",
    "print(findprime(1,15))       "
   ]
  },
  {
   "cell_type": "code",
   "execution_count": 17,
   "id": "245c0523-0c7e-4c93-948c-df6523f1b394",
   "metadata": {},
   "outputs": [
    {
     "name": "stdout",
     "output_type": "stream",
     "text": [
      "Prime numbers between 1 and 15: [2, 3, 5, 7, 11, 13]\n"
     ]
    }
   ],
   "source": [
    "def sieve_of_eratosthenes(n):\n",
    "    \"\"\"\n",
    "    Finds all prime numbers up to 'n' using the Sieve of Eratosthenes.\n",
    "    :param n: Upper limit of the range (inclusive).\n",
    "    :return: A list of all prime numbers <= n.\n",
    "    \"\"\"\n",
    "    # Step 1: Create a boolean array `is_prime` where all entries are initially True\n",
    "    is_prime = [True] * (n + 1)\n",
    "    is_prime[0] = is_prime[1] = False  # 0 and 1 are not primes\n",
    "\n",
    "    # Step 2: Start marking multiples of each number as non-prime\n",
    "    for i in range(2, int(n**0.5) + 1):  # Only go up to sqrt(n)\n",
    "        if is_prime[i]:  # If `i` is still marked as prime\n",
    "            for j in range(i * i, n + 1, i):  # Mark multiples of `i` as non-prime\n",
    "                is_prime[j] = False\n",
    "\n",
    "    # Step 3: Collect all numbers that are still marked as prime\n",
    "    primes = [x for x in range(n + 1) if is_prime[x]]\n",
    "    return primes\n",
    "\n",
    "# Example Usage\n",
    "x = 1\n",
    "y = 15\n",
    "primes_in_range = [p for p in sieve_of_eratosthenes(y) if p >= x]\n",
    "print(f\"Prime numbers between {x} and {y}: {primes_in_range}\")\n"
   ]
  },
  {
   "cell_type": "code",
   "execution_count": 3,
   "id": "6bfff89a-77e0-450a-abe3-782b3007f5ba",
   "metadata": {},
   "outputs": [
    {
     "name": "stdout",
     "output_type": "stream",
     "text": [
      " Hi , My name is Tej.\n",
      "And i like coffee,\n",
      "i also like fried chicken \n"
     ]
    }
   ],
   "source": [
    "str_multi = \"\"\" Hi , My name is Tej.\n",
    "And i like coffee,\n",
    "i also like fried chicken \"\"\" \n",
    "\n",
    "print(str_multi)\n"
   ]
  },
  {
   "cell_type": "code",
   "execution_count": 7,
   "id": "235a789d-77df-48a5-a462-3a82dfc5ca52",
   "metadata": {},
   "outputs": [
    {
     "name": "stdout",
     "output_type": "stream",
     "text": [
      "A quick brown fox jumps over a lazy dog\n",
      "a quick brown fox jumps over a lazy dog\n",
      "A QUICK BROWN FOX JUMPS OVER A LAZY DOG\n",
      "a quick brown fox jumps over a lazy dog\n",
      "a QUICK BROWN fOX JUMPS OVER A LAZY dOG\n",
      "A Quick Brown Fox Jumps Over A Lazy Dog\n"
     ]
    }
   ],
   "source": [
    "str = \"A quick brown Fox jumps over a lazy Dog\"\n",
    "print(str.capitalize())\n",
    "print(str.casefold())\n",
    "print(str.upper())\n",
    "print(str.lower())\n",
    "print(str.swapcase())\n",
    "print(str.title())"
   ]
  },
  {
   "cell_type": "code",
   "execution_count": null,
   "id": "172bd4f9-e659-4f71-89a3-10a81a515dcc",
   "metadata": {},
   "outputs": [],
   "source": []
  }
 ],
 "metadata": {
  "kernelspec": {
   "display_name": "Python 3 (ipykernel)",
   "language": "python",
   "name": "python3"
  },
  "language_info": {
   "codemirror_mode": {
    "name": "ipython",
    "version": 3
   },
   "file_extension": ".py",
   "mimetype": "text/x-python",
   "name": "python",
   "nbconvert_exporter": "python",
   "pygments_lexer": "ipython3",
   "version": "3.12.9"
  }
 },
 "nbformat": 4,
 "nbformat_minor": 5
}
